{
 "cells": [
  {
   "cell_type": "code",
   "execution_count": 3,
   "id": "9c537e67-b64a-43a6-bdf1-826953b62316",
   "metadata": {},
   "outputs": [],
   "source": [
    "import numpy as np\n",
    "import pandas as pd\n",
    "import matplotlib.pyplot as plt"
   ]
  },
  {
   "cell_type": "code",
   "execution_count": 4,
   "id": "3c390a87-dc2b-4410-96c9-5ba753bdac20",
   "metadata": {},
   "outputs": [],
   "source": [
    "train = pd.read_csv('train.csv')\n",
    "test = pd.read_csv('test.csv')\n",
    "\n",
    "y_train = train['label'].to_numpy()\n",
    "X_train = train.drop(columns = ['label']).to_numpy()\n",
    "X_test = test.to_numpy()"
   ]
  },
  {
   "cell_type": "code",
   "execution_count": 12,
   "id": "57e190dd-77b5-4e3e-a1e8-aaf760d0261e",
   "metadata": {},
   "outputs": [],
   "source": [
    "class ModelForMNISTdigits:\n",
    "    \n",
    "    def __init__(self, learning_rate, iterations, num_of_layers, num_of_neurons, input_size):\n",
    "        if num_of_layers < 2:\n",
    "            raise ValueError(\"Number of layers (nol) must be at least 2 (hidden + output layer).\")\n",
    "        self.nol = num_of_layers\n",
    "        self.non = num_of_neurons\n",
    "        self.w, self.b = [np.random.randn(self.non[0], input_size)], [np.random.randn(self.non[0], 1)]\n",
    "        self.z, self.a = [None], [None]\n",
    "        for i in range(1, self.nol):\n",
    "            self.w.append(np.random.randn(self.non[i], self.non[i-1])*0.1)\n",
    "            self.b.append(np.random.randn(self.non[i], 1))\n",
    "            self.z.append(None)\n",
    "            self.a.append(None)\n",
    "        self.alpha = learning_rate\n",
    "        self.iterations = iterations\n",
    "        \n",
    "    def relu(self, z):\n",
    "        return np.maximum(0, z)\n",
    "        \n",
    "    def relu_dash(self, z):\n",
    "        return (z > 0).astype(float)\n",
    "        \n",
    "    def softmax(self, z):\n",
    "        exp_z = np.exp(z - np.max(z, axis = 0, keepdims = True))\n",
    "        return exp_z / np.sum(exp_z, axis = 0, keepdims = True)\n",
    "    \n",
    "    def forward_prop(self, X):\n",
    "        self.z[0] = self.w[0].dot(X) + self.b[0]\n",
    "        self.a[0] = self.relu(self.z[0])\n",
    "        for i in range(1, self.nol - 1):\n",
    "            self.z[i] = self.w[i].dot(self.a[i-1]) + self.b[i]\n",
    "            self.a[i] = self.relu(self.z[i])\n",
    "        self.z[self.nol - 1] = self.w[self.nol - 1].dot(self.a[self.nol - 2]) + self.b[self.nol - 1]\n",
    "        self.a[self.nol - 1] = self.softmax(self.z[self.nol - 1])\n",
    "\n",
    "    def one_hot(self, y):\n",
    "        one_hot_y = np.zeros((y.size, 10))\n",
    "        one_hot_y[np.arange(y.size), y] = 1\n",
    "        return one_hot_y.T\n",
    "\n",
    "    def back_prop(self, X, y):\n",
    "        m = y.size\n",
    "        onehot_y = self.one_hot(y)\n",
    "        dw, db = [None]*self.nol, [None]*self.nol\n",
    "        dz = self.a[-1] - onehot_y\n",
    "        dw[-1] = (1/m)*dz.dot(self.a[-2].T)\n",
    "        db[-1] = (1/m)*np.sum(dz, axis = 1, keepdims = True)\n",
    "        for i in reversed(range(1, self.nol - 1)):\n",
    "            dz = self.w[i+1].T.dot(dz)*self.relu_dash(self.z[i])\n",
    "            dw[i] = (1/m)*dz.dot(self.a[i-1].T)\n",
    "            db[i] = (1/m)*np.sum(dz, axis = 1, keepdims = True)\n",
    "        dz = self.w[1].T.dot(dz)*self.relu_dash(self.z[0])\n",
    "        dw[0] = (1/m)*dz.dot(X.T)\n",
    "        db[0] = (1/m)*np.sum(dz, axis = 1, keepdims = True)\n",
    "        for i in range(self.nol):\n",
    "            self.w[i] -= self.alpha*dw[i]\n",
    "            self.b[i] -= self.alpha*db[i]\n",
    "\n",
    "    def predict(self, X):\n",
    "        self.forward_prop(X)\n",
    "        return np.argmax(self.a[-1], 0)\n",
    "        \n",
    "    def accuracy(self, y, predictions):\n",
    "        return np.sum(predictions == y) / y.size\n",
    "\n",
    "    def train(self, X, y):\n",
    "        for i in range(self.iterations):\n",
    "            self.forward_prop(X)     \n",
    "            self.back_prop(X, y)\n",
    "            if i%20 == 0:\n",
    "                accuracy = self.accuracy(y, np.argmax(self.a[-1], 0))\n",
    "                print(f'{i} iterations done:')\n",
    "                print(f'    Accuracy: {accuracy}')"
   ]
  },
  {
   "cell_type": "code",
   "execution_count": null,
   "id": "01259b7f-b37d-4391-a465-14382ba465c0",
   "metadata": {},
   "outputs": [
    {
     "name": "stdout",
     "output_type": "stream",
     "text": [
      "0 iterations done:\n",
      "    Accuracy: 0.10585714285714286\n",
      "20 iterations done:\n",
      "    Accuracy: 0.4394523809523809\n",
      "40 iterations done:\n",
      "    Accuracy: 0.581952380952381\n"
     ]
    }
   ],
   "source": [
    "model = ModelForMNISTdigits(learning_rate = 0.01, iterations = 6000, num_of_layers = 3, num_of_neurons = [128, 64, 10], input_size = 784)\n",
    "model.train(X_train.T / 255, y_train)"
   ]
  },
  {
   "cell_type": "code",
   "execution_count": null,
   "id": "7e0d8a88-253c-4117-9e23-41c46dd6d90e",
   "metadata": {},
   "outputs": [],
   "source": []
  }
 ],
 "metadata": {
  "kernelspec": {
   "display_name": "Python 3 (ipykernel)",
   "language": "python",
   "name": "python3"
  },
  "language_info": {
   "codemirror_mode": {
    "name": "ipython",
    "version": 3
   },
   "file_extension": ".py",
   "mimetype": "text/x-python",
   "name": "python",
   "nbconvert_exporter": "python",
   "pygments_lexer": "ipython3",
   "version": "3.10.11"
  }
 },
 "nbformat": 4,
 "nbformat_minor": 5
}
